{
 "cells": [
  {
   "cell_type": "code",
   "execution_count": 1,
   "metadata": {},
   "outputs": [
    {
     "name": "stderr",
     "output_type": "stream",
     "text": [
      "/Users/giofer/anaconda3/envs/HOD/lib/python3.11/site-packages/halomod/halo_exclusion.py:18: UserWarning: Warning: Some Halo-Exclusion models have significant speedup when using Numba\n",
      "  warnings.warn(\n"
     ]
    }
   ],
   "source": [
    "import sys\n",
    "import numpy as np\n",
    "import matplotlib.pyplot as plt\n",
    "sys.path.append(\".\")\n",
    "import HOD\n",
    "import HOD_lowz\n",
    "\n",
    "from scipy import integrate\n",
    "from scipy import special\n",
    "\n",
    "import mpmath\n",
    "from hmf import MassFunction\n",
    "from halomod.bias import Tinker10\n",
    "from astropy.cosmology import FlatLambdaCDM\n",
    "cosmo  = FlatLambdaCDM(H0=67.74, Om0=0.3089, Tcmb0=2.725)\n",
    "OmegaM = cosmo.Om(0)\n",
    "OmegaL = cosmo.Ode(0)\n",
    "OmegaK = cosmo.Ok(0)\n",
    "OmegaB = 0.049\n",
    "OmegaC = OmegaM-OmegaB\n",
    "H0 = cosmo.H(0).value\n",
    "h  = H0/100\n",
    "c_light  = 299792.458"
   ]
  },
  {
   "cell_type": "code",
   "execution_count": 203,
   "metadata": {},
   "outputs": [
    {
     "name": "stdout",
     "output_type": "stream",
     "text": [
      "k_min: -2.37, k_max: 5.13\n",
      "[1.00000000e-04 2.40482556e+00 5.52007811e+00] ... [3134.52411    3137.66570261 3140.80729523]\n",
      "[252.12328681 -57.42043309  24.80853455] ... [-0.00272015  0.00271654 -0.00271248]\n"
     ]
    },
    {
     "data": {
      "text/plain": [
       "(210.7307282303074, 1.287177721563125e-05)"
      ]
     },
     "execution_count": 203,
     "metadata": {},
     "output_type": "execute_result"
    }
   ],
   "source": [
    "############ Test integration ############\n",
    "_theta_ = 1\n",
    "\n",
    "z = 1.7\n",
    "M_sat, M_min, sigma_logM, alpha = 10**14.18, 10**12.46, 0.2, 1.0\n",
    "z_array = np.array([1.2, 1.3, 1.4, 1.5, 1.6, 1.7, 1.8, 1.9, 2.0, 2.1, 2.2])\n",
    "N_z_nrm = np.array([0.0, 1.0, 1.0, 1.0, 1.0, 1.0, 1.0, 1.0, 1.0, 1.0, 0.0])\n",
    "\n",
    "_PS_NORM_ = HOD.norm_power_spectrum()\n",
    "M_h_array, HMF_array, nu_array, hmf_k, hmf_PS = HOD.init_lookup_table(z, REWRITE_TBLS=False)\n",
    "NCEN = HOD.N_cen(M_h_array, M_min, sigma_logM)\n",
    "NSAT = HOD.N_sat(M_h_array, M_sat, alpha, M_min, sigma_logM)\n",
    "D_ratio   = (HOD.D_growth_factor(z)/HOD.D_growth_factor(0))**2 if z != 0 else 1\n",
    "bias = Tinker10(nu=nu_array).bias() if 1 else HOD.halo_bias_TINKER(nu_array)\n",
    "N_G  = HOD.n_g(M_min, sigma_logM, M_sat, alpha, z, M_h_array, HMF_array)\n",
    "comoving_distance_z = cosmo.comoving_distance(z).value\n",
    "crit_dens_rescaled = (4/3*np.pi*cosmo.critical_density(z).value*200*2e40)\n",
    "\n",
    "def F_k_hmf_func(k, M_min, sigma_logM, M_sat, alpha, z, crit_dens_rescaled, M_h_array,\n",
    "                 HMF_array, N_G, NCEN, NSAT, bias, hmf_k, hmf_PS, D_ratio, _PS_NORM_, USE_MY_PS = 1):\n",
    "    PS_1 = HOD.PS_1h(k, M_min, sigma_logM, M_sat, alpha, z, crit_dens_rescaled, M_h_array,\n",
    "                     HMF_array, N_G, NCEN, NSAT)\n",
    "    PS_2 = HOD.PS_2h(k, M_min, sigma_logM, M_sat, alpha, z, crit_dens_rescaled, M_h_array,\n",
    "                     HMF_array, N_G, NCEN, NSAT, bias, hmf_k, hmf_PS, D_ratio, _PS_NORM_, USE_MY_PS)\n",
    "    PS_2_corr =  PS_2 if USE_MY_PS else hmf_PS * PS_2\n",
    "    factor = HOD.factor_k(k, _theta_/206265, comoving_distance_z)\n",
    "    return np.array((PS_1 + PS_2_corr) * factor) if USE_MY_PS else np.array((PS_1 + PS_2_corr) * factor)[0] #INDEX ZERO IS WRONG!!!\n",
    "\n",
    "def func(x, M_min, sigma_logM, M_sat, alpha, z, crit_dens_rescaled, M_h_array,\n",
    "         HMF_array, N_G, NCEN, NSAT, bias, hmf_k, hmf_PS, D_ratio, _PS_NORM_, USE_MY_PS = 1):\n",
    "    k = x / (_theta_ / 206265 * comoving_distance_z)\n",
    "    return F_k_hmf_func(k, M_min, sigma_logM, M_sat, alpha, z, crit_dens_rescaled, M_h_array,\n",
    "                        HMF_array, N_G, NCEN, NSAT, bias, hmf_k, hmf_PS, D_ratio, _PS_NORM_, USE_MY_PS)\n",
    "\n",
    "j_0_zeros = np.append(1e-4, special.jn_zeros(0,1_000))\n",
    "_prec = 1e-2\n",
    "_args_ = M_min, sigma_logM, M_sat, alpha, z, crit_dens_rescaled, M_h_array, HMF_array, N_G, NCEN, NSAT, bias, hmf_k, hmf_PS, D_ratio, _PS_NORM_\n",
    "INT_hmf = [integrate.quad(func, j_0_zero, j_0_zeros[ij+1], epsabs=_prec, epsrel=_prec, args = (_args_)) for ij, j_0_zero in enumerate(j_0_zeros[:-1])]\n",
    "INT_hmf = np.reshape(INT_hmf, (len(j_0_zeros)-1, 2))\n",
    "k_min = np.around(np.log10(np.min(j_0_zeros / (_theta_ / 206265 * comoving_distance_z))),2)\n",
    "k_max = np.around(np.log10(np.max(j_0_zeros / (_theta_ / 206265 * comoving_distance_z))),2)\n",
    "print(f'k_min: {k_min}, k_max: {k_max}')\n",
    "print(j_0_zeros[:3], '...', j_0_zeros[-3:])\n",
    "print(INT_hmf[:3,0], '...', INT_hmf[-3:,0])\n",
    "np.sum(INT_hmf[:,0]), np.abs((np.sum(INT_hmf[:,0])-np.sum(INT_hmf[:-1,0]))/np.sum(INT_hmf[:,0]))"
   ]
  },
  {
   "cell_type": "code",
   "execution_count": 172,
   "metadata": {},
   "outputs": [
    {
     "name": "stdout",
     "output_type": "stream",
     "text": [
      "# Cores: 10\n"
     ]
    },
    {
     "ename": "UnboundLocalError",
     "evalue": "cannot access local variable 'shd_mem' where it is not associated with a value",
     "output_type": "error",
     "traceback": [
      "\u001b[0;31m---------------------------------------------------------------------------\u001b[0m",
      "\u001b[0;31mOSError\u001b[0m                                   Traceback (most recent call last)",
      "\u001b[1;32m/Users/giofer/Documents/GitHub/HOD/HOD_test.ipynb Cell 3\u001b[0m line \u001b[0;36m4\n\u001b[1;32m     <a href='vscode-notebook-cell:/Users/giofer/Documents/GitHub/HOD/HOD_test.ipynb#X21sZmlsZQ%3D%3D?line=38'>39</a>\u001b[0m nbytes \u001b[39m=\u001b[39m nzeros \u001b[39m*\u001b[39m np\u001b[39m.\u001b[39mfloat64(\u001b[39m1\u001b[39m)\u001b[39m.\u001b[39mnbytes\n\u001b[0;32m---> <a href='vscode-notebook-cell:/Users/giofer/Documents/GitHub/HOD/HOD_test.ipynb#X21sZmlsZQ%3D%3D?line=39'>40</a>\u001b[0m shd_mem \u001b[39m=\u001b[39m SharedMemory(name\u001b[39m=\u001b[39;49m\u001b[39mf\u001b[39;49m\u001b[39m'\u001b[39;49m\u001b[39mintegr_\u001b[39;49m\u001b[39m{\u001b[39;49;00mmem_id\u001b[39m}\u001b[39;49;00m\u001b[39m'\u001b[39;49m, create\u001b[39m=\u001b[39;49m\u001b[39mTrue\u001b[39;49;00m, size\u001b[39m=\u001b[39;49mnbytes)\n\u001b[1;32m     <a href='vscode-notebook-cell:/Users/giofer/Documents/GitHub/HOD/HOD_test.ipynb#X21sZmlsZQ%3D%3D?line=40'>41</a>\u001b[0m method \u001b[39m=\u001b[39m \u001b[39m'\u001b[39m\u001b[39mspawn\u001b[39m\u001b[39m'\u001b[39m\n",
      "File \u001b[0;32m~/anaconda3/envs/HOD/lib/python3.11/multiprocessing/shared_memory.py:104\u001b[0m, in \u001b[0;36mSharedMemory.__init__\u001b[0;34m(self, name, create, size)\u001b[0m\n\u001b[1;32m    103\u001b[0m name \u001b[39m=\u001b[39m \u001b[39m\"\u001b[39m\u001b[39m/\u001b[39m\u001b[39m\"\u001b[39m \u001b[39m+\u001b[39m name \u001b[39mif\u001b[39;00m \u001b[39mself\u001b[39m\u001b[39m.\u001b[39m_prepend_leading_slash \u001b[39melse\u001b[39;00m name\n\u001b[0;32m--> 104\u001b[0m \u001b[39mself\u001b[39m\u001b[39m.\u001b[39m_fd \u001b[39m=\u001b[39m _posixshmem\u001b[39m.\u001b[39;49mshm_open(\n\u001b[1;32m    105\u001b[0m     name,\n\u001b[1;32m    106\u001b[0m     \u001b[39mself\u001b[39;49m\u001b[39m.\u001b[39;49m_flags,\n\u001b[1;32m    107\u001b[0m     mode\u001b[39m=\u001b[39;49m\u001b[39mself\u001b[39;49m\u001b[39m.\u001b[39;49m_mode\n\u001b[1;32m    108\u001b[0m )\n\u001b[1;32m    109\u001b[0m \u001b[39mself\u001b[39m\u001b[39m.\u001b[39m_name \u001b[39m=\u001b[39m name\n",
      "\u001b[0;31mOSError\u001b[0m: [Errno 63] File name too long: '/integr_338cbcbb-549b-42f0-8ecc-00db46e0c114'",
      "\nDuring handling of the above exception, another exception occurred:\n",
      "\u001b[0;31mUnboundLocalError\u001b[0m                         Traceback (most recent call last)",
      "\u001b[1;32m/Users/giofer/Documents/GitHub/HOD/HOD_test.ipynb Cell 3\u001b[0m line \u001b[0;36m6\n\u001b[1;32m     <a href='vscode-notebook-cell:/Users/giofer/Documents/GitHub/HOD/HOD_test.ipynb#X21sZmlsZQ%3D%3D?line=61'>62</a>\u001b[0m             sys\u001b[39m.\u001b[39mexit(\u001b[39m1\u001b[39m)\n\u001b[1;32m     <a href='vscode-notebook-cell:/Users/giofer/Documents/GitHub/HOD/HOD_test.ipynb#X21sZmlsZQ%3D%3D?line=62'>63</a>\u001b[0m     \u001b[39mreturn\u001b[39;00m local_itgrd\n\u001b[0;32m---> <a href='vscode-notebook-cell:/Users/giofer/Documents/GitHub/HOD/HOD_test.ipynb#X21sZmlsZQ%3D%3D?line=64'>65</a>\u001b[0m make_integral_array_sharemem()\n",
      "\u001b[1;32m/Users/giofer/Documents/GitHub/HOD/HOD_test.ipynb Cell 3\u001b[0m line \u001b[0;36m5\n\u001b[1;32m     <a href='vscode-notebook-cell:/Users/giofer/Documents/GitHub/HOD/HOD_test.ipynb#X21sZmlsZQ%3D%3D?line=56'>57</a>\u001b[0m         local_itgrd \u001b[39m=\u001b[39m np\u001b[39m.\u001b[39mndarray(nzeros, buffer\u001b[39m=\u001b[39mshd_mem\u001b[39m.\u001b[39mbuf, dtype\u001b[39m=\u001b[39mnp\u001b[39m.\u001b[39mfloat64)\u001b[39m.\u001b[39mcopy()\n\u001b[1;32m     <a href='vscode-notebook-cell:/Users/giofer/Documents/GitHub/HOD/HOD_test.ipynb#X21sZmlsZQ%3D%3D?line=57'>58</a>\u001b[0m \u001b[39mfinally\u001b[39;00m:\n\u001b[0;32m---> <a href='vscode-notebook-cell:/Users/giofer/Documents/GitHub/HOD/HOD_test.ipynb#X21sZmlsZQ%3D%3D?line=58'>59</a>\u001b[0m     shd_mem\u001b[39m.\u001b[39mclose()\n\u001b[1;32m     <a href='vscode-notebook-cell:/Users/giofer/Documents/GitHub/HOD/HOD_test.ipynb#X21sZmlsZQ%3D%3D?line=59'>60</a>\u001b[0m     shd_mem\u001b[39m.\u001b[39munlink()\n\u001b[1;32m     <a href='vscode-notebook-cell:/Users/giofer/Documents/GitHub/HOD/HOD_test.ipynb#X21sZmlsZQ%3D%3D?line=60'>61</a>\u001b[0m     \u001b[39mif\u001b[39;00m exit:\n",
      "\u001b[0;31mUnboundLocalError\u001b[0m: cannot access local variable 'shd_mem' where it is not associated with a value"
     ]
    }
   ],
   "source": [
    "import multiprocessing\n",
    "from multiprocessing.shared_memory import SharedMemory\n",
    "import uuid\n",
    "import sys\n",
    "\n",
    "NZEROS = 10_000\n",
    "mem_id = None\n",
    "_prec = 1e-1\n",
    "_args_ = M_min, sigma_logM, M_sat, alpha, z, crit_dens_rescaled,\\\n",
    "         M_h_array, HMF_array, N_G, NCEN, NSAT, bias, hmf_k, hmf_PS,\\\n",
    "         D_ratio, _PS_NORM_, USE_MY_PS\n",
    "\n",
    "def init(mem):\n",
    "    global mem_id\n",
    "    mem_id = mem\n",
    "    return\n",
    "\n",
    "def make_integral_array(args):\n",
    "    _args_, shape, nsrc, job_id = args\n",
    "    shmem = SharedMemory(name=f'integr_{mem_id}', create=False)\n",
    "    intgr = np.ndarray(shape, buffer=shmem.buf, dtype=np.float64)\n",
    "    start = job_id * nsrc\n",
    "    end = start + nsrc\n",
    "    j0zs = np.append(1e-3, special.jn_zeros(0,10000))[start:end]\n",
    "    INT_hmf = [integrate.quad(func, j0z, j0zs[ij+1], epsabs=_prec, epsrel=_prec, args = (_args_))[0] for ij, j0z in enumerate(j0zs[:-1])]\n",
    "    intgr[start:end] = INT_hmf\n",
    "    return\n",
    "\n",
    "def make_integral_array_sharemem(_args = _args_, nzeros=NZEROS, cores=None):\n",
    "    if cores is None:\n",
    "        cores = multiprocessing.cpu_count()\n",
    "        print(f'# Cores: {cores}')\n",
    "\n",
    "    args =  [(_args, nzeros, nzeros//int(cores), i) for i in range(int(cores))]\n",
    "    exit = False\n",
    "    try:\n",
    "        global mem_id\n",
    "        mem_id = str(uuid.uuid4())\n",
    "        nbytes = nzeros * np.float64(1).nbytes\n",
    "        shd_mem = SharedMemory(name=f'integr_{mem_id}', create=True, size=nbytes)\n",
    "        method = 'spawn'\n",
    "        if sys.platform.startswith('linux'):\n",
    "            method = 'fork'\n",
    "        ctx = multiprocessing.get_context(method)\n",
    "        pool = ctx.Pool(processes=cores, maxtasksperchild=1,\n",
    "                        initializer=init, initargs=(mem_id,)\n",
    "                        )\n",
    "        try:\n",
    "            pool.map_async(make_integral_array, args, chunksize=1).get(timeout=10_000)\n",
    "        except KeyboardInterrupt:\n",
    "            print(\"Caught kbd interrupt\")\n",
    "            pool.close()\n",
    "            exit = True\n",
    "        else:\n",
    "            pool.close()\n",
    "            pool.join()\n",
    "            local_itgrd = np.ndarray(nzeros, buffer=shd_mem.buf, dtype=np.float64).copy()\n",
    "    finally:\n",
    "        shd_mem.close()\n",
    "        shd_mem.unlink()\n",
    "        if exit:\n",
    "            sys.exit(1)\n",
    "    return local_itgrd\n",
    "\n",
    "make_integral_array_sharemem()\n"
   ]
  },
  {
   "cell_type": "code",
   "execution_count": 122,
   "metadata": {},
   "outputs": [
    {
     "name": "stdout",
     "output_type": "stream",
     "text": [
      "24.45382387257201\n"
     ]
    },
    {
     "data": {
      "text/plain": [
       "array(73573.13290911)"
      ]
     },
     "execution_count": 122,
     "metadata": {},
     "output_type": "execute_result"
    }
   ],
   "source": [
    "def F_k_hmf_func(k, M_min, sigma_logM, M_sat, alpha, z, crit_dens_rescaled, M_h_array,\n",
    "                 HMF_array, N_G, NCEN, NSAT, bias, hmf_k, hmf_PS, D_ratio, _PS_NORM_, USE_MY_PS):\n",
    "    PS_1 = HOD.PS_1h(k, M_min, sigma_logM, M_sat, alpha, z, crit_dens_rescaled, M_h_array,\n",
    "                     HMF_array, N_G, NCEN, NSAT)\n",
    "    PS_2 = HOD.PS_2h(k, M_min, sigma_logM, M_sat, alpha, z, crit_dens_rescaled, M_h_array,\n",
    "                     HMF_array, N_G, NCEN, NSAT, bias, hmf_k, hmf_PS, D_ratio, _PS_NORM_, USE_MY_PS)\n",
    "    PS_2_corr =  PS_2 if USE_MY_PS else hmf_PS * PS_2\n",
    "    factor = HOD.factor_k(k, _theta_/206265, comoving_distance_z)\n",
    "    return np.array((PS_1 + PS_2_corr) * factor)\n",
    "\n",
    "USE_MY_PS = 1\n",
    "k = 1 / (_theta_ / 206265 * comoving_distance_z)\n",
    "print(k)\n",
    "F_k_hmf_func(k, M_min, sigma_logM, M_sat, alpha, z, crit_dens_rescaled, M_h_array, HMF_array, N_G, NCEN, NSAT, bias, hmf_k, hmf_PS, D_ratio, _PS_NORM_, USE_MY_PS)"
   ]
  },
  {
   "cell_type": "code",
   "execution_count": 3,
   "metadata": {},
   "outputs": [],
   "source": [
    "_theta_ = 1\n",
    "\n",
    "z = 1.7\n",
    "M_sat, M_min, sigma_logM, alpha = 10**14.18, 10**12.46, 0.2, 1.0\n",
    "z_array = np.array([1.2, 1.3, 1.4, 1.5, 1.6, 1.7, 1.8, 1.9, 2.0, 2.1, 2.2])\n",
    "N_z_nrm = np.array([0.0, 1.0, 1.0, 1.0, 1.0, 1.0, 1.0, 1.0, 1.0, 1.0, 0.0])\n",
    "\n",
    "if(0):\n",
    "    z = 5.9\n",
    "    M_sat, M_min, sigma_logM, alpha = 10**13.73, 10**12.09, 0.2, 1.0\n",
    "    data = [\n",
    "    (5.500000e+00, 2.321580e-02),\n",
    "    (5.600000e+00, 5.284060e-02),\n",
    "    (5.700000e+00, 1.436010e-01),\n",
    "    (5.800000e+00, 1.481370e-01),\n",
    "    (5.900000e+00, 1.036900e-01),\n",
    "    (6.000000e+00, 1.342000e-01),\n",
    "    (6.100000e+00, 2.453660e-01),\n",
    "    (6.200000e+00, 1.546640e-01),\n",
    "    (6.300000e+00, 1.127430e-02)\n",
    "    ]\n",
    "    z_array, N_z_nrm = np.array(data).T"
   ]
  },
  {
   "cell_type": "code",
   "execution_count": 4,
   "metadata": {},
   "outputs": [
    {
     "name": "stdout",
     "output_type": "stream",
     "text": [
      "Integral new: 1.9e+04, +- 2.5e+02\n",
      "Integral old: 9.4e+03\n"
     ]
    },
    {
     "name": "stderr",
     "output_type": "stream",
     "text": [
      "/var/folders/wk/scnpc33x3q348qw83nb1tcgw0000gn/T/ipykernel_14280/2019431267.py:37: IntegrationWarning: The occurrence of roundoff error is detected, which prevents \n",
      "  the requested tolerance from being achieved.  The error may be \n",
      "  underestimated.\n",
      "  INT_hmf, err = integrate.quad(F_k_hmf_func, 1e-3, np.inf, limit=10000, epsabs=1e-4,\n"
     ]
    }
   ],
   "source": [
    "_PS_NORM_ = HOD.norm_power_spectrum()\n",
    "M_h_array, HMF_array, nu_array, hmf_k, hmf_PS = HOD.init_lookup_table(z, REWRITE_TBLS=False)\n",
    "NCEN = HOD.N_cen(M_h_array, M_min, sigma_logM)\n",
    "NSAT = HOD.N_sat(M_h_array, M_sat, alpha, M_min, sigma_logM)\n",
    "D_ratio   = (HOD.D_growth_factor(z)/HOD.D_growth_factor(0))**2 if z != 0 else 1\n",
    "bias = Tinker10(nu=nu_array).bias() if 1 else HOD.halo_bias_TINKER(nu_array)\n",
    "N_G  = HOD.n_g(M_min, sigma_logM, M_sat, alpha, z, M_h_array, HMF_array)\n",
    "comoving_distance_z = cosmo.comoving_distance(z).value\n",
    "crit_dens_rescaled = (4/3*np.pi*cosmo.critical_density(z).value*200*2e40)\n",
    "\n",
    "USE_MY_PS = 0\n",
    "if (USE_MY_PS):\n",
    "    k_array = np.logspace(-3, 3, 2000)\n",
    "    dlogk = np.log(k_array[1]/k_array[0])\n",
    "else:\n",
    "    k_array = hmf_k\n",
    "    dlogk = np.log(hmf_k[1]/hmf_k[0])\n",
    "PS_1 = [HOD.PS_1h(k, M_min, sigma_logM, M_sat, alpha, z, crit_dens_rescaled, M_h_array, HMF_array, N_G, NCEN, NSAT) for k in k_array]\n",
    "PS_2 = [HOD.PS_2h(k, M_min, sigma_logM, M_sat, alpha, z, crit_dens_rescaled, M_h_array, HMF_array, N_G, NCEN, NSAT,\\\n",
    "                   bias, hmf_k, hmf_PS, D_ratio, _PS_NORM_, USE_MY_PS) for k in k_array]\n",
    "PS_2_corr =  np.array(PS_2) if USE_MY_PS else hmf_PS * np.array(PS_2)\n",
    "factor = np.array([HOD.factor_k(k, _theta_/206265, comoving_distance_z) for k in k_array])\n",
    "F_k_hmf = (np.array(PS_1) + PS_2_corr) * factor\n",
    "\n",
    "def F_k_hmf_func(k, M_min, sigma_logM, M_sat, alpha, z, crit_dens_rescaled,\n",
    "                 M_h_array, HMF_array, N_G, NCEN, NSAT, bias, hmf_k, hmf_PS,\n",
    "                 D_ratio, _PS_NORM_, USE_MY_PS):\n",
    "    PS_1 = HOD.PS_1h(k, M_min, sigma_logM, M_sat, alpha, z, crit_dens_rescaled,\n",
    "                     M_h_array, HMF_array, N_G, NCEN, NSAT)\n",
    "    PS_2 = HOD.PS_2h(k, M_min, sigma_logM, M_sat, alpha, z, crit_dens_rescaled,\n",
    "                     M_h_array, HMF_array, N_G, NCEN, NSAT, bias, hmf_k, hmf_PS,\n",
    "                     D_ratio, _PS_NORM_, USE_MY_PS)\n",
    "    PS_2_corr =  PS_2 if USE_MY_PS else hmf_PS * PS_2\n",
    "    factor = HOD.factor_k(k, _theta_/206265, comoving_distance_z)\n",
    "    return np.array((PS_1 + PS_2_corr) * factor)[0]\n",
    "\n",
    "INT_hmf, err = integrate.quad(F_k_hmf_func, 1e-3, np.inf, limit=10000, epsabs=1e-4,\n",
    "                              args = (M_min, sigma_logM, M_sat, alpha, z, crit_dens_rescaled, M_h_array,\n",
    "                                      HMF_array, N_G, NCEN, NSAT, bias, hmf_k, hmf_PS, D_ratio, _PS_NORM_, USE_MY_PS))\n",
    "# INT_hmf_mpmat = mpmath.quad(F_k_hmf_func_mpmath, [0.001, mpmath.inf], period=2*np.pi)\n",
    "INT_hmf_simps = integrate.simps(F_k_hmf, k_array)\n",
    "\n",
    "print(f'Integral new: {INT_hmf:.1e}, +- {err:.1e}')\n",
    "# print(f'Integral mat: {INT_hmf_mpmat:.1e}')\n",
    "print(f'Integral old: {INT_hmf_simps:.1e}')"
   ]
  },
  {
   "cell_type": "code",
   "execution_count": 24,
   "metadata": {},
   "outputs": [
    {
     "data": {
      "image/png": "[encoded data removed]",
      "text/plain": [
       "<Figure size 1100x500 with 2 Axes>"
      ]
     },
     "metadata": {},
     "output_type": "display_data"
    }
   ],
   "source": [
    "_PS_NORM_ = HOD.norm_power_spectrum()\n",
    "M_h_array, HMF_array, nu_array, hmf_k, hmf_PS = HOD.init_lookup_table(z, REWRITE_TBLS=False)\n",
    "NCEN = HOD.N_cen(M_h_array, M_min, sigma_logM)\n",
    "NSAT = HOD.N_sat(M_h_array, M_sat, alpha, M_min, sigma_logM)\n",
    "D_ratio   = (HOD.D_growth_factor(z)/HOD.D_growth_factor(0))**2 if z != 0 else 1\n",
    "bias = Tinker10(nu=nu_array).bias() if 1 else HOD.halo_bias_TINKER(nu_array)\n",
    "N_G  = HOD.n_g(M_min, sigma_logM, M_sat, alpha, z, M_h_array, HMF_array)\n",
    "comoving_distance_z = cosmo.comoving_distance(z).value\n",
    "crit_dens_rescaled = (4/3*np.pi*cosmo.critical_density(z).value*200*2e40)\n",
    "\n",
    "USE_MY_PS = 0\n",
    "if (USE_MY_PS):\n",
    "    k_array = np.logspace(-3, 3, 2000)\n",
    "    dlogk = np.log(k_array[1]/k_array[0])\n",
    "else:\n",
    "    k_array = hmf_k\n",
    "    dlogk = np.log(hmf_k[1]/hmf_k[0])\n",
    "PS_1 = [HOD.PS_1h(k, M_min, sigma_logM, M_sat, alpha, z, crit_dens_rescaled, M_h_array, HMF_array, N_G, NCEN, NSAT) for k in k_array]\n",
    "PS_2 = [HOD.PS_2h(k, M_min, sigma_logM, M_sat, alpha, z, crit_dens_rescaled, M_h_array, HMF_array, N_G, NCEN, NSAT, bias, hmf_k, hmf_PS, D_ratio, _PS_NORM_, USE_MY_PS) for k in k_array]\n",
    "PS_2_corr =  np.array(PS_2) if USE_MY_PS else hmf_PS * np.array(PS_2)\n",
    "factor = np.array([HOD.factor_k(k, _theta_/206265, comoving_distance_z) for k in k_array])\n",
    "F_k_hmf = (np.array(PS_1) + PS_2_corr) * factor\n",
    "INT_hmf = 1#mpmath.quadosc(F_k_hmf, [0.001, mpmath.inf], period=2*np.pi)\n",
    "INT_hmf_simps = integrate.simps(F_k_hmf, k_array)\n",
    "\n",
    "\n",
    "USE_MY_PS = 1\n",
    "if (USE_MY_PS):\n",
    "    k_array = np.logspace(-3, 3, 2000)\n",
    "    dlogk = np.log(k_array[1]/k_array[0])\n",
    "else:\n",
    "    k_array = hmf_k\n",
    "    dlogk = np.log(hmf_k[1]/hmf_k[0])\n",
    "PS_1 = [HOD.PS_1h(k, M_min, sigma_logM, M_sat, alpha, z, crit_dens_rescaled, M_h_array, HMF_array, N_G, NCEN, NSAT) for k in k_array]\n",
    "PS_2 = [HOD.PS_2h(k, M_min, sigma_logM, M_sat, alpha, z, crit_dens_rescaled, M_h_array, HMF_array, N_G, NCEN, NSAT, bias, hmf_k, hmf_PS, D_ratio, _PS_NORM_, USE_MY_PS) for k in k_array]\n",
    "PS_2_corr =  np.array(PS_2) if USE_MY_PS else hmf_PS * np.array(PS_2)\n",
    "factor = np.array([HOD.factor_k(k, _theta_/206265, comoving_distance_z) for k in k_array])\n",
    "F_k_anl = (np.array(PS_1) + PS_2_corr) * factor\n",
    "\n",
    "def Integrand_k(k, theta, comoving_distance_z):\n",
    "    k / (2*np.pi) * special.j0(k * theta * comoving_distance_z)\n",
    "\n",
    "INT_anl = 1#mpmath.quadosc(F_k_anl, [0.001, mpmath.inf], period=2*np.pi)\n",
    "INT_anl_simps = integrate.simps(F_k_anl, k_array)\n",
    "\n",
    "fig, ax = plt.subplots(1, 2, figsize=(11, 5), sharex=False, sharey=False)\n",
    "plt.subplots_adjust(wspace=.23, hspace=.2)\n",
    "ax[0].plot(hmf_k, F_k_hmf, c = 'c', ls = '-', label = 'NL: '+str(int(INT_hmf))+'; '+str(int(INT_hmf_simps)))\n",
    "ax[0].plot(k_array, F_k_anl, c = 'm', ls = '--', label = 'LN: '+str(int(INT_anl))+'; '+str(int(INT_anl_simps)))\n",
    "ax[0].set_xscale('log')\n",
    "ax[0].set_yscale('log')\n",
    "ax[0].set_xlim((1e-3, 1e2))\n",
    "ax[0].set_ylim((3e-1, 3e4))\n",
    "ax[0].legend(title=f'z = {z}, theta = {_theta_}')\n",
    "\n",
    "H_z = [cosmo.H(z).value for z in z_array]\n",
    "factor_z =  np.power(np.array(N_z_nrm), 2) / (c_light / np.array(H_z))\n",
    "\n",
    "intg1 = [HOD.omega_z_component_1(z, _theta_/206265, M_min, sigma_logM, M_sat, alpha, NCEN, NSAT, _PS_NORM_, USE_MY_PS = 0, REWRITE_TBLS = False) for z in z_array]\n",
    "intg2 = [HOD.omega_z_component_2(z, _theta_/206265, M_min, sigma_logM, M_sat, alpha, NCEN, NSAT, _PS_NORM_, USE_MY_PS = 0, REWRITE_TBLS = False) for z in z_array]\n",
    "intg1_hmf, intg2_hmf = np.array(intg1), np.array(intg2)\n",
    "OM1_hmf, OM2_hmf = np.trapz(intg1_hmf * factor_z, z_array), np.trapz(intg2_hmf * factor_z, z_array)\n",
    "\n",
    "intg1 = [HOD.omega_z_component_1(z, _theta_/206265, M_min, sigma_logM, M_sat, alpha, NCEN, NSAT, _PS_NORM_, USE_MY_PS = 1, REWRITE_TBLS = False) for z in z_array]\n",
    "intg2 = [HOD.omega_z_component_2(z, _theta_/206265, M_min, sigma_logM, M_sat, alpha, NCEN, NSAT, _PS_NORM_, USE_MY_PS = 1, REWRITE_TBLS = False) for z in z_array]\n",
    "intg1_anl, intg2_anl = np.array(intg1), np.array(intg2)\n",
    "OM1_anl, OM2_anl = np.trapz(intg1_anl * factor_z, z_array), np.trapz(intg2_anl * factor_z, z_array)\n",
    "\n",
    "ax[1].plot(z_array, intg1_hmf * factor_z, c = 'c', ls = '-'     , label = f'NL 1: {OM1_hmf:.1e}')\n",
    "ax[1].plot(z_array, intg2_hmf * factor_z, c = 'lime', ls = '-'  , label = f'NL 2: {OM2_hmf:.1e}')\n",
    "ax[1].plot(z_array, intg1_anl * factor_z, c = 'm', ls = ':'     , label = f'LN 1: {OM1_anl:.1e}')\n",
    "ax[1].plot(z_array, intg2_anl * factor_z, c = 'orange', ls = ':', label = f'LN 2: {OM2_anl:.1e}')\n",
    "ax[1].legend()\n",
    "plt.show()\n"
   ]
  },
  {
   "cell_type": "code",
   "execution_count": 323,
   "metadata": {},
   "outputs": [
    {
     "name": "stdout",
     "output_type": "stream",
     "text": [
      "redshift z   : 1.70\n",
      "n_avg        : 3.83e-04\n",
      "N_g_AVG      : 3.90e-04\n",
      "log(M_h_AVG) : 12.80\n",
      "b_eff        : 2.58\n",
      "log(f_sat)   : -1.42\n",
      "ln(f_sat)    : -3.26\n"
     ]
    }
   ],
   "source": [
    "if(1):\n",
    "    z = 1.7\n",
    "    M_sat, M_min, sigma_logM, alpha = 10**14.18, 10**12.46, 0.2, 1.0\n",
    "    # M_sat, M_min, sigma_logM, alpha = 10**14.78, 10**12.46, 0.2, 1.0\n",
    "    z_array = np.array([1.2, 1.3, 1.4, 1.5, 1.6, 1.7, 1.8, 1.9, 2.0, 2.1, 2.2])\n",
    "    N_z_nrm = np.array([0.0, 1.0, 1.0, 1.0, 1.0, 1.0, 1.0, 1.0, 1.0, 1.0, 0.0])\n",
    "elif(0):\n",
    "    z = 1.7\n",
    "    M_sat, M_min, sigma_logM, alpha = 10**12.48, 10**11.55, 0.2, 1.0\n",
    "    z_array = np.array([1.2, 1.3, 1.4, 1.5, 1.6, 1.7, 1.8, 1.9, 2.0, 2.1, 2.2])\n",
    "    N_z_nrm = np.array([0.0, 1.0, 1.0, 1.0, 1.0, 1.0, 1.0, 1.0, 1.0, 1.0, 0.0])\n",
    "elif(0):\n",
    "    z = 2.9\n",
    "    M_sat, M_min, sigma_logM, alpha = 10**12.55, 10**11.71, 0.2, 1.0\n",
    "    data = [\n",
    "            [2.000000e+00, 2.017570e-02],\n",
    "            [2.100000e+00, 5.120140e-02],\n",
    "            [2.200000e+00, 8.963850e-02],\n",
    "            [2.300000e+00, 1.257240e-01],\n",
    "            [2.400000e+00, 1.558000e-01],\n",
    "            [2.500000e+00, 2.025050e-01],\n",
    "            [2.600000e+00, 2.320880e-01],\n",
    "            [2.700000e+00, 3.334470e-01],\n",
    "            [2.800000e+00, 3.349540e-01],\n",
    "            [2.900000e+00, 4.237170e-01],\n",
    "            [3.000000e+00, 4.196420e-01],\n",
    "            [3.100000e+00, 4.230910e-01],\n",
    "            [3.200000e+00, 4.523410e-01],\n",
    "            [3.300000e+00, 3.643720e-01],\n",
    "            [3.400000e+00, 1.837830e-01],\n",
    "            [3.500000e+00, 4.229380e-02],\n",
    "            [3.600000e+00, 3.679960e-02],\n",
    "            [3.700000e+00, 3.273170e-02],\n",
    "            [3.800000e+00, 5.401130e-02],\n",
    "            [3.900000e+00, 2.088890e-02],\n",
    "            [4.000000e+00, 1.080040e-02]\n",
    "            ]\n",
    "    z_array = np.array([row[0] for row in data])\n",
    "    N_z_nrm = np.array([row[1] for row in data])\n",
    "elif(0):\n",
    "    z = 4.9\n",
    "    M_sat, M_min, sigma_logM, alpha = 10**11.86, 10**11.57, 0.2, 1.0\n",
    "    data = [\n",
    "    (4.300000e+00, 1.300650e-02),\n",
    "    (4.400000e+00, 1.332110e-02),\n",
    "    (4.500000e+00, 1.609830e-01),\n",
    "    (4.600000e+00, 1.659040e-01),\n",
    "    (4.700000e+00, 3.460340e-01),\n",
    "    (4.800000e+00, 2.671030e-01),\n",
    "    (4.900000e+00, 2.569500e-01),\n",
    "    (5.000000e+00, 1.880120e-01),\n",
    "    (5.100000e+00, 1.704260e-01),\n",
    "    (5.200000e+00, 1.871200e-01),\n",
    "    (5.300000e+00, 7.831920e-02)\n",
    "    ]\n",
    "    z_array, N_z_nrm = np.array(data).T\n",
    "else:\n",
    "    z = 5.9\n",
    "    M_sat, M_min, sigma_logM, alpha = 10**13.73, 10**12.09, 0.2, 1.0\n",
    "    data = [\n",
    "    (5.500000e+00, 2.321580e-02),\n",
    "    (5.600000e+00, 5.284060e-02),\n",
    "    (5.700000e+00, 1.436010e-01),\n",
    "    (5.800000e+00, 1.481370e-01),\n",
    "    (5.900000e+00, 1.036900e-01),\n",
    "    (6.000000e+00, 1.342000e-01),\n",
    "    (6.100000e+00, 2.453660e-01),\n",
    "    (6.200000e+00, 1.546640e-01),\n",
    "    (6.300000e+00, 1.127430e-02)\n",
    "    ]\n",
    "    z_array, N_z_nrm = np.array(data).T\n",
    "\n",
    "M_h_array, HMF_array, nu_array, hmf_k, hmf_PS = HOD.init_lookup_table(z)\n",
    "NTOT = HOD.N_tot(M_h_array, M_sat, alpha, M_min, sigma_logM)\n",
    "N_g_AVG = HOD.get_AVG_N_tot(M_min, sigma_logM, M_sat, alpha, z)\n",
    "M_h_AVG = HOD.get_AVG_Host_Halo_Mass(M_min, sigma_logM, M_sat, alpha, z)\n",
    "b_eff = HOD.get_EFF_gal_bias(M_min, sigma_logM, M_sat, alpha, z, USE_MY_BIAS = 0)\n",
    "f_sat = HOD.get_AVG_f_sat(M_min, sigma_logM, M_sat, alpha, z)\n",
    "n_avg = HOD.get_N_dens_avg(z_array, M_min, sigma_logM, M_sat, alpha, z, N_z_nrm)\n",
    "\n",
    "print(f'redshift z   : {z:.2f}')\n",
    "print(f'n_avg        : {n_avg:.2e}')\n",
    "print(f'N_g_AVG      : {N_g_AVG:.2e}')\n",
    "print(f'log(M_h_AVG) : {np.log10(M_h_AVG):.2f}')\n",
    "print(f'b_eff        : {b_eff:.2f}')\n",
    "print(f'log(f_sat)   : {np.log10(f_sat):.2f}')\n",
    "print(f'ln(f_sat)    : {np.log(f_sat):.2f}')"
   ]
  },
  {
   "cell_type": "code",
   "execution_count": 234,
   "metadata": {},
   "outputs": [
    {
     "data": {
      "application/vnd.jupyter.widget-view+json": {
       "model_id": "468d2a34098d4b2997127c0b333c31a7",
       "version_major": 2,
       "version_minor": 0
      },
      "text/plain": [
       "  0%|          | 0/11 [00:00<?, ?it/s]"
      ]
     },
     "metadata": {},
     "output_type": "display_data"
    }
   ],
   "source": [
    "_theta_arcsec = np.logspace(-0.5, 3.5, 11)\n",
    "theta = _theta_arcsec * 1/206265 # 1 arcsec in rad\n",
    "omega1h, omega2h = HOD.omega_array(theta, M_min, sigma_logM, M_sat, alpha, N_z_nrm, z_array, USE_MY_PS = True, REWRITE_TBLS = False, USE_MY_BIAS = False)"
   ]
  },
  {
   "cell_type": "code",
   "execution_count": 20,
   "metadata": {},
   "outputs": [],
   "source": [
    "z = 1.7\n",
    "# M_sat, M_min, sigma_logM, alpha = 10**14.18, 10**12.46, 0.2, 1.0\n",
    "M_sat, M_min, sigma_logM, alpha = 10**14.78, 10**12.46, 0.2, 1.0\n",
    "z_array = np.array([1.3, 1.4, 1.5, 1.6, 1.7, 1.8, 1.9, 2.0, 2.1])\n",
    "N_z_nrm = np.array([1.0, 1.0, 1.0, 1.0, 1.0, 1.0, 1.0, 1.0, 1.0])\n",
    "\n",
    "z = 5.9\n",
    "M_sat, M_min, sigma_logM, alpha = 10**13.73, 10**12.09, 0.2, 1.0\n",
    "# M_sat, M_min, sigma_logM, alpha = 10**14.73, 10**13.09, 0.2, 1.0\n",
    "data = [\n",
    "(5.500000e+00, 2.321580e-02),\n",
    "(5.600000e+00, 5.284060e-02),\n",
    "(5.700000e+00, 1.436010e-01),\n",
    "(5.800000e+00, 1.481370e-01),\n",
    "(5.900000e+00, 1.036900e-01),\n",
    "(6.000000e+00, 1.342000e-01),\n",
    "(6.100000e+00, 2.453660e-01),\n",
    "(6.200000e+00, 1.546640e-01),\n",
    "(6.300000e+00, 1.127430e-02)\n",
    "]\n",
    "z_array, N_z_nrm = np.array(data).T\n",
    "\n",
    "k_array = np.logspace(-5, 5, 100000)\n",
    "ttttttt = np.logspace(-0.5, 3.5, 21)\n",
    "o1, o2 = HOD_lowz.omega(ttttttt/206265, M_min, sigma_logM, M_sat, alpha, N_z_nrm, z_array, k_array = k_array)\n",
    "# o1, o2 = HOD.omega_array(np.array([1, 5])/206265, M_min, sigma_logM, M_sat, alpha, N_z_nrm, z_array)"
   ]
  },
  {
   "cell_type": "code",
   "execution_count": 27,
   "metadata": {},
   "outputs": [
    {
     "data": {
      "image/png": "[encoded data removed]",
      "text/plain": [
       "<Figure size 450x300 with 1 Axes>"
      ]
     },
     "metadata": {},
     "output_type": "display_data"
    }
   ],
   "source": [
    "COL = 'k'\n",
    "fig, ax = plt.subplots(1, 1, figsize=(4.5, 3), sharex=False, sharey=False)\n",
    "# ax.plot(_theta_arcsec, omega1h, c = COL,ls = '--', label=r'$\\omega_{1h}$')\n",
    "# ax.plot(_theta_arcsec, omega2h, c = COL,ls = '-.', label=r'$\\omega_{2h}$')\n",
    "# ax.plot(_theta_arcsec, (omega1h+omega2h), c = COL,ls = '-')\n",
    "\n",
    "ax.plot(ttttttt, o1, c = 'r', ls = '--', label=r'$\\omega_{1h}$')\n",
    "ax.plot(ttttttt, o2, c = 'r', ls = '-.', label=r'$\\omega_{2h}$')\n",
    "ax.plot(ttttttt, o1+o2, c = 'r', ls = '-')\n",
    "\n",
    "ax.set_xscale('log')\n",
    "ax.set_yscale('log')\n",
    "ax.set_xlim((0.5,2e3))\n",
    "ax.set_ylim((1e-4,4e1))\n",
    "ax.set_xlabel(r'$\\theta$ [arcsec]')\n",
    "ax.set_ylabel(r'$\\omega$($\\theta$)')\n",
    "plt.legend()\n",
    "plt.show()"
   ]
  }
 ],
 "metadata": {
  "kernelspec": {
   "display_name": "hmf",
   "language": "python",
   "name": "python3"
  },
  "language_info": {
   "codemirror_mode": {
    "name": "ipython",
    "version": 3
   },
   "file_extension": ".py",
   "mimetype": "text/x-python",
   "name": "python",
   "nbconvert_exporter": "python",
   "pygments_lexer": "ipython3",
   "version": "3.11.5"
  },
  "orig_nbformat": 4
 },
 "nbformat": 4,
 "nbformat_minor": 2
}
